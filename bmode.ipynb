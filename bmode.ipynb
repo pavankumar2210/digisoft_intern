{
 "cells": [
  {
   "cell_type": "code",
   "execution_count": 14,
   "metadata": {
    "collapsed": false
   },
   "outputs": [
    {
     "name": "stdout",
     "output_type": "stream",
     "text": [
      "Requirement already satisfied: pydicom in c:\\users\\user\\anaconda2\\envs\\py3k\\lib\\site-packages (1.2.1)\n"
     ]
    }
   ],
   "source": [
    "import sys\n",
    "import sys\n",
    "!{sys.executable} -m pip install pydicom"
   ]
  },
  {
   "cell_type": "code",
   "execution_count": 15,
   "metadata": {
    "collapsed": true
   },
   "outputs": [],
   "source": [
    "import pydicom"
   ]
  },
  {
   "cell_type": "code",
   "execution_count": 16,
   "metadata": {
    "collapsed": true
   },
   "outputs": [],
   "source": [
    "data = pydicom.dcmread(\"bmode.dcm\")"
   ]
  },
  {
   "cell_type": "code",
   "execution_count": 17,
   "metadata": {
    "collapsed": true
   },
   "outputs": [],
   "source": [
    "data1 = data.dir()"
   ]
  },
  {
   "cell_type": "code",
   "execution_count": 9,
   "metadata": {
    "collapsed": false
   },
   "outputs": [
    {
     "name": "stdout",
     "output_type": "stream",
     "text": [
      "Collecting dataset\n",
      "  Using cached https://files.pythonhosted.org/packages/ba/76/5b8fe80f487bfa90b8d0094c3a27150fe797b1fbe02dec31b048fd52448d/dataset-1.1.0-py2.py3-none-any.whl\n",
      "Collecting normality>=0.5.1 (from dataset)\n",
      "  Using cached https://files.pythonhosted.org/packages/7f/38/9ed937afe0fe95a281180d8820d46eb955bc1b0f656f3b301635608a5c1f/normality-1.0.0-py2.py3-none-any.whl\n",
      "Collecting six>=1.11.0 (from dataset)\n",
      "  Using cached https://files.pythonhosted.org/packages/73/fb/00a976f728d0d1fecfe898238ce23f502a721c0ac0ecfedb80e0d88c64e9/six-1.12.0-py2.py3-none-any.whl\n",
      "Collecting alembic>=0.6.2 (from dataset)\n",
      "  Using cached https://files.pythonhosted.org/packages/1c/65/b8e4f5b2f345bb13b5e0a3fddd892b0b3f0e8ad4880e954fdc6a50d00d84/alembic-1.0.5.tar.gz\n",
      "Collecting sqlalchemy>=1.1.0 (from dataset)\n",
      "  Using cached https://files.pythonhosted.org/packages/05/d2/17fb194f4ae83577258ea1d81da3d5d5643f4957fa14fd0261d78d648bf5/SQLAlchemy-1.2.16.tar.gz\n",
      "Collecting banal>=0.4.1 (from normality>=0.5.1->dataset)\n",
      "  Downloading https://files.pythonhosted.org/packages/27/07/376d107ccf0dd80efdd8e4310b1d7d34a2d54f5389f946d58950c6dd70cc/banal-0.4.2-py2.py3-none-any.whl\n",
      "Collecting pyicu>=1.9.3 (from normality>=0.5.1->dataset)\n",
      "  Using cached https://files.pythonhosted.org/packages/c2/15/0af20b540c828943b6ffea5677c86e908dcac108813b522adebb75c827c1/PyICU-2.2.tar.gz\n",
      "    Complete output from command python setup.py egg_info:\n",
      "    Traceback (most recent call last):\n",
      "      File \"C:\\Users\\User\\AppData\\Local\\Temp\\pip-install-ppt32och\\pyicu\\setup.py\", line 43, in <module>\n",
      "        ICU_VERSION = os.environ['ICU_VERSION']\n",
      "      File \"C:\\Users\\User\\Anaconda2\\envs\\py3k\\lib\\os.py\", line 683, in __getitem__\n",
      "        raise KeyError(key) from None\n",
      "    KeyError: 'ICU_VERSION'\n",
      "    \n",
      "    During handling of the above exception, another exception occurred:\n",
      "    \n",
      "    Traceback (most recent call last):\n",
      "      File \"C:\\Users\\User\\AppData\\Local\\Temp\\pip-install-ppt32och\\pyicu\\setup.py\", line 46, in <module>\n",
      "        ICU_VERSION = check_output(('icu-config', '--version')).strip()\n",
      "      File \"C:\\Users\\User\\Anaconda2\\envs\\py3k\\lib\\subprocess.py\", line 629, in check_output\n",
      "        **kwargs).stdout\n",
      "      File \"C:\\Users\\User\\Anaconda2\\envs\\py3k\\lib\\subprocess.py\", line 696, in run\n",
      "        with Popen(*popenargs, **kwargs) as process:\n",
      "      File \"C:\\Users\\User\\Anaconda2\\envs\\py3k\\lib\\subprocess.py\", line 950, in __init__\n",
      "        restore_signals, start_new_session)\n",
      "      File \"C:\\Users\\User\\Anaconda2\\envs\\py3k\\lib\\subprocess.py\", line 1220, in _execute_child\n",
      "        startupinfo)\n",
      "    FileNotFoundError: [WinError 2] The system cannot find the file specified\n",
      "    \n",
      "    During handling of the above exception, another exception occurred:\n",
      "    \n",
      "    Traceback (most recent call last):\n",
      "      File \"<string>\", line 1, in <module>\n",
      "      File \"C:\\Users\\User\\AppData\\Local\\Temp\\pip-install-ppt32och\\pyicu\\setup.py\", line 53, in <module>\n",
      "        ''')\n",
      "    RuntimeError:\n",
      "    Please set the ICU_VERSION environment variable to the version of\n",
      "    ICU you have installed.\n",
      "    \n",
      "    \n",
      "    ----------------------------------------\n"
     ]
    },
    {
     "name": "stderr",
     "output_type": "stream",
     "text": [
      "Command \"python setup.py egg_info\" failed with error code 1 in C:\\Users\\User\\AppData\\Local\\Temp\\pip-install-ppt32och\\pyicu\\\n"
     ]
    }
   ],
   "source": [
    "!{sys.executable} -m pip install dataset"
   ]
  },
  {
   "cell_type": "code",
   "execution_count": 18,
   "metadata": {
    "collapsed": false
   },
   "outputs": [],
   "source": [
    "with open(\"C:/Users/User/Desktop/file1.txt\", \"w\") as output:\n",
    "    output.write(str(data1))"
   ]
  }
 ],
 "metadata": {
  "kernelspec": {
   "display_name": "Python 3",
   "language": "python",
   "name": "python3"
  },
  "language_info": {
   "codemirror_mode": {
    "name": "ipython",
    "version": 3
   },
   "file_extension": ".py",
   "mimetype": "text/x-python",
   "name": "python",
   "nbconvert_exporter": "python",
   "pygments_lexer": "ipython3",
   "version": "3.5.1"
  }
 },
 "nbformat": 4,
 "nbformat_minor": 0
}
